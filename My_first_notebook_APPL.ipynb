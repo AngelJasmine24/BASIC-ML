{
  "nbformat": 4,
  "nbformat_minor": 0,
  "metadata": {
    "colab": {
      "name": "My first notebook APPL.ipynb",
      "provenance": [],
      "authorship_tag": "ABX9TyMGqF2dTpPJUPPs2lXr1nfx",
      "include_colab_link": true
    },
    "kernelspec": {
      "name": "python3",
      "display_name": "Python 3"
    },
    "language_info": {
      "name": "python"
    }
  },
  "cells": [
    {
      "cell_type": "markdown",
      "metadata": {
        "id": "view-in-github",
        "colab_type": "text"
      },
      "source": [
        "<a href=\"https://colab.research.google.com/github/AngelJasmine24/BASIC-ML/blob/main/My_first_notebook_APPL.ipynb\" target=\"_parent\"><img src=\"https://colab.research.google.com/assets/colab-badge.svg\" alt=\"Open In Colab\"/></a>"
      ]
    },
    {
      "cell_type": "code",
      "metadata": {
        "colab": {
          "base_uri": "https://localhost:8080/"
        },
        "id": "i259YTIA2DcF",
        "outputId": "8fbb71b8-1fdc-4318-9a4e-5a14a5577194"
      },
      "source": [
        "a=10\n",
        "b=5\n",
        "sum=a+b\n",
        "print(sum)"
      ],
      "execution_count": null,
      "outputs": [
        {
          "output_type": "stream",
          "text": [
            "15\n"
          ],
          "name": "stdout"
        }
      ]
    },
    {
      "cell_type": "code",
      "metadata": {
        "colab": {
          "base_uri": "https://localhost:8080/"
        },
        "id": "zyc13aje34t0",
        "outputId": "26d845d5-d6b4-4061-ee2f-2b64b968d9da"
      },
      "source": [
        "# python program to find the are of the area of the triangle\n",
        "a=5\n",
        "b=3\n",
        "c=2\n",
        "#calculate the semi perimeter\n",
        "s= (a+b+c)/2\n",
        "#calculating the area\n",
        "area = s*(s-a)*(s-b)*(s-c)**0.5\n",
        "print('the area of the triangle is %0.2f',area)\n"
      ],
      "execution_count": null,
      "outputs": [
        {
          "output_type": "stream",
          "text": [
            "the area of the triangle is %0.2f 0.0\n"
          ],
          "name": "stdout"
        }
      ]
    },
    {
      "cell_type": "code",
      "metadata": {
        "colab": {
          "base_uri": "https://localhost:8080/"
        },
        "id": "w77X_hYn6Esc",
        "outputId": "ef3442c6-07ca-46b7-9566-a3b851223247"
      },
      "source": [
        "# python program to check if year is a leap year or not\n",
        "year=int(input('enter a year:'))\n",
        "if(year %4==0 and year%100!=0):\n",
        "  print(year,\"leap year\")\n",
        "elif year %100 ==0:\n",
        "  print(year,\"not a leap\")\n",
        "elif year % 400 ==0:\n",
        "  print(year,\"leap year\")\n",
        "else:\n",
        "  print(year,\"not a leap\")\n"
      ],
      "execution_count": null,
      "outputs": [
        {
          "output_type": "stream",
          "text": [
            "enter a year:2020\n",
            "2020 leap year\n"
          ],
          "name": "stdout"
        }
      ]
    },
    {
      "cell_type": "markdown",
      "metadata": {
        "id": "ULtImcDwAQ7N"
      },
      "source": [
        "thank you\n",
        "\n"
      ]
    }
  ]
}